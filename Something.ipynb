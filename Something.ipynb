{
 "cells": [
  {
   "cell_type": "code",
   "execution_count": 117,
   "metadata": {
    "collapsed": false
   },
   "outputs": [],
   "source": [
    "import requests\n",
    "import urllib\n",
    "import csv\n",
    "from bs4 import BeautifulSoup\n",
    "from datetime import datetime\n",
    "import os"
   ]
  },
  {
   "cell_type": "code",
   "execution_count": 118,
   "metadata": {
    "collapsed": true
   },
   "outputs": [],
   "source": [
    "def get_topic_list_html(pagenum):\n",
    "    r = requests.get('http://www.kdi.re.kr/policy/ep_list.jsp?pg='+str(pagenum)+'&&pp=10')\n",
    "    \n",
    "    soup = BeautifulSoup(r.text, \"lxml\")\n",
    "    return soup"
   ]
  },
  {
   "cell_type": "code",
   "execution_count": 119,
   "metadata": {
    "collapsed": true
   },
   "outputs": [],
   "source": [
    "dataset = []"
   ]
  },
  {
   "cell_type": "code",
   "execution_count": 120,
   "metadata": {
    "collapsed": false
   },
   "outputs": [],
   "source": [
    "def get_data(html):\n",
    "    title_list = []\n",
    "    origin_list = []\n",
    "    link_list = []\n",
    "    \n",
    "    tmp = html.find_all(class_=\"rpt_conts\")[0]\n",
    "    tmp_li = tmp.find_all('a')\n",
    "    \n",
    "    for i in range(0,len(tmp_li)):\n",
    "        tmp_str = str(tmp_li[i]).split(\">\")[1]\n",
    "        tmp_str = str(tmp_str).split(\"<\")[0]\n",
    "        title_list.append(tmp_str)\n",
    "        \n",
    "    tmp_li = tmp.find_all(class_=\"rpt_sup\")\n",
    "    \n",
    "    for i in range(0, len(tmp_li)):\n",
    "        tmp_str = str(tmp_li[i]).split(\"<em>\")[1]\n",
    "        tmp_ori = str(tmp_str).split(\"</em>\")[0]\n",
    "        origin_list.append(tmp_ori)\n",
    "        \n",
    "    tmp_li = tmp.find_all(class_=\"rpt_lst\")\n",
    "    \n",
    "    for i in range(0, len(tmp_li)):\n",
    "        tmp_str = str(tmp_li[i]).split(\">\")[1]\n",
    "        tmp_str = str(tmp_str).split(\"\\\"\")[3]\n",
    "        tmp_str= str(tmp_str).split(\"./\")[1]\n",
    "        tmp_link = \"www.kdi.re.kr/policy/\" + tmp_str\n",
    "        \n",
    "        link_list.append(tmp_link)\n",
    "    \n",
    "    for i in range(0, len(tmp_li)):\n",
    "        dataset.append({ \"구분\": \"중앙부처\", \"발표처\": origin_list[i], \"제목\": title_list[i], \"웹주소\": link_list[i]})\n",
    "        \n"
   ]
  },
  {
   "cell_type": "code",
   "execution_count": 121,
   "metadata": {
    "collapsed": false
   },
   "outputs": [],
   "source": [
    "test_html = get_topic_list_html(1)\n",
    "get_data(test_html)"
   ]
  },
  {
   "cell_type": "code",
   "execution_count": 127,
   "metadata": {
    "collapsed": false
   },
   "outputs": [],
   "source": [
    "date = str(datetime.today()).split(\" \")[0]"
   ]
  },
  {
   "cell_type": "code",
   "execution_count": 128,
   "metadata": {
    "collapsed": true
   },
   "outputs": [],
   "source": [
    "def WriteDictToCSV(csv_file, csv_columns, dict_data):\n",
    "    try:\n",
    "        with open(csv_file, 'w') as csvfile:\n",
    "            writer = csv.DictWriter(csvfile, fieldnames=csv_columns)\n",
    "            writer.writeheader()\n",
    "            for data in dict_data:\n",
    "                writer.writerow(data)\n",
    "    except IOError as (errno, strerror):\n",
    "            print(\"I/O error({0}): {1}\".format(errno, strerror)) \n",
    "    return     \n"
   ]
  },
  {
   "cell_type": "code",
   "execution_count": 129,
   "metadata": {
    "collapsed": false
   },
   "outputs": [],
   "source": [
    "csv_columns = [\"구분\", \"발표처\", \"제목\", \"웹주소\"]\n",
    "currentPath = os.getcwd()\n",
    "csv_file = date + \".csv\"\n",
    "WriteDictToCSV(csv_file, csv_columns, dataset)\n"
   ]
  },
  {
   "cell_type": "code",
   "execution_count": null,
   "metadata": {
    "collapsed": true
   },
   "outputs": [],
   "source": []
  }
 ],
 "metadata": {
  "anaconda-cloud": {},
  "kernelspec": {
   "display_name": "Python [Root]",
   "language": "python",
   "name": "Python [Root]"
  },
  "language_info": {
   "codemirror_mode": {
    "name": "ipython",
    "version": 2
   },
   "file_extension": ".py",
   "mimetype": "text/x-python",
   "name": "python",
   "nbconvert_exporter": "python",
   "pygments_lexer": "ipython2",
   "version": "2.7.11"
  }
 },
 "nbformat": 4,
 "nbformat_minor": 0
}
