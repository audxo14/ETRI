{
 "cells": [
  {
   "cell_type": "code",
   "execution_count": 1,
   "metadata": {
    "collapsed": false
   },
   "outputs": [],
   "source": [
    "#-*- coding: utf-8 -*-\n",
    "import requests\n",
    "import random\n",
    "import urllib\n",
    "from bs4 import BeautifulSoup\n",
    "from datetime import datetime\n",
    "import time\n",
    "import csv\n",
    "import os\n",
    "import sys\n",
    "reload(sys)\n",
    "sys.setdefaultencoding('utf-8')"
   ]
  },
  {
   "cell_type": "code",
   "execution_count": 2,
   "metadata": {
    "collapsed": true
   },
   "outputs": [],
   "source": [
    "#Crawl HTML of google search results\n",
    "def get_google_list_html(num, key):\n",
    "    r = requests.get('https://www.google.co.in/search?hl=ko&output=search&q='+unicode(key,'cp949')+'&tbm=nws&tbs=qdr:d&start='+str(num))\n",
    "    soup = BeautifulSoup(r.text, \"lxml\")\n",
    "    return soup"
   ]
  },
  {
   "cell_type": "code",
   "execution_count": 3,
   "metadata": {
    "collapsed": true
   },
   "outputs": [],
   "source": [
    "#Crawl HTML of KDI\n",
    "def get_html_KDI(pagenum):\n",
    "    r = requests.get('http://www.kdi.re.kr/policy/ep_list.jsp?pg='+str(pagenum)+'&&pp=10')\n",
    "    \n",
    "    soup = BeautifulSoup(r.text, \"lxml\")\n",
    "    return soup"
   ]
  },
  {
   "cell_type": "code",
   "execution_count": 4,
   "metadata": {
    "collapsed": true
   },
   "outputs": [],
   "source": [
    "#Crawl HTML of Korea Government\n",
    "def get_html_Korea_Cen(pagenum):\n",
    "    r = requests.get('http://www.korea.go.kr/ntnadmNews?&pageIndex='+str(pagenum))\n",
    "    \n",
    "    soup = BeautifulSoup(r.text, \"lxml\")\n",
    "    return soup"
   ]
  },
  {
   "cell_type": "code",
   "execution_count": 5,
   "metadata": {
    "collapsed": true
   },
   "outputs": [],
   "source": [
    "#Crawl HTML of Korea Government\n",
    "def get_html_Korea_Rem(pagenum):\n",
    "    r = requests.get('http://www.korea.go.kr/locgovNews?&pageIndex='+str(pagenum))\n",
    "    \n",
    "    soup = BeautifulSoup(r.text, \"lxml\")\n",
    "    return soup"
   ]
  },
  {
   "cell_type": "code",
   "execution_count": 95,
   "metadata": {
    "collapsed": false
   },
   "outputs": [],
   "source": [
    "# To get what we want from the HTML... News Title, Date, Reference, and links for each article.\n",
    "def get_google_article(html):    \n",
    "    \n",
    "    article_list = []\n",
    "    \n",
    "    tot_article = html.find_all(class_='g')\n",
    "    for i in range(0,len(tot_article)):\n",
    "        flag = 1\n",
    "        try:\n",
    "            tmp_title = html.find_all(class_='g')[i]\n",
    "            tmp_test = tmp_title.find_all('a')\n",
    "            if (len(tmp_test) < 2):\n",
    "                flag = 0\n",
    "            else:\n",
    "                flag = 1\n",
    "\n",
    "            tmp_link = tmp_test[0]\n",
    "            if flag == 1:\n",
    "                for j in range(0, 10):\n",
    "                    test_str = tmp_title.find_all('a')[j].get_text()\n",
    "                    article_title = test_str.encode('utf-8')\n",
    "                    tmp_link = tmp_test[j]\n",
    "                    article_link = tmp_link.encode('utf-8').split('\\\"')[1].split('&amp')[0].split('/url?q=')[1].replace('%3F','?')\n",
    "                    article_link = article_link.replace('%3D','=')\n",
    "                    article_link = article_link.replace('%26','&')\n",
    "                    article_ref = unicode(tmp_title.find_all(class_='slp')[j].get_text().split(' - ')[0])\n",
    "                    if len(article_title) == 0:\n",
    "                        break\n",
    "                    \n",
    "                    article = {'구분': '뉴스', '발표처' : article_ref, \n",
    "                               '웹주소' : '=HYPERLINK(\\\"'+article_link+\"\\\")\", \n",
    "                               '제목' : article_title}\n",
    "                    article_list.append(article)\n",
    "\n",
    "            else: \n",
    "                test_str = tmp_title.find_all('a')[0].get_text()\n",
    "                #test = unicode(test_str, 'utf-8')\n",
    "                article_title = test_str.encode('utf-8')\n",
    "                article_link = tmp_link.encode('utf-8').split('\\\"')[1].split('&amp')[0].split('/url?q=')[1].replace('%3F','?')\n",
    "                article_link = article_link.replace('%3D','=')\n",
    "                article_link = article_link.replace('%26','&')\n",
    "                article_ref = unicode(tmp_title.find_all(class_='slp')[0].get_text().split(' - ')[0])\n",
    "\n",
    "                article = {'구분': '뉴스', '발표처' : article_ref, \n",
    "                            '웹주소' : '=HYPERLINK(\\\"'+article_link+\"\\\")\",\n",
    "                           '제목' : article_title}\n",
    "                article_list.append(article)\n",
    "                #print test_str\n",
    "            \"\"\"\n",
    "            test_str = tmp_title.find_all('a')[0].get_text()\n",
    "            #test = unicode(test_str, 'utf-8')\n",
    "            article_title = test_str.encode('utf-8')\n",
    "            article_link = tmp_link.encode('utf-8').split('\\\"')[1].split('&amp')[0].split('/url?q=')[1].replace('%3F','?')\n",
    "            article_link = article_link.replace('%3D','=')\n",
    "            article_ref = unicode(tmp_title.find_all(class_='slp')[0].get_text().split(' - ')[0])\n",
    "\n",
    "            article = {'구분': '뉴스', '발표처' : article_ref, '웹주소' : article_link, '제목' : article_title}\n",
    "            article_list.append(article)\n",
    "            #print test_str\n",
    "            \"\"\"\n",
    "        except:\n",
    "            continue\n",
    "    return article_list"
   ]
  },
  {
   "cell_type": "code",
   "execution_count": 7,
   "metadata": {
    "collapsed": true
   },
   "outputs": [],
   "source": [
    "def get_data_KDI(html):\n",
    "    keepgo = 1\n",
    "    tmp_conts = html.find_all(class_=\"rpt_conts\")[0]\n",
    "    tmp_date = tmp_conts.find_all(class_=\"nlt\")\n",
    "    tmp_sup = tmp_conts.find_all(class_=\"rpt_sup\")\n",
    "    tmp_lst = tmp_conts.find_all(class_=\"rpt_lst\")\n",
    "    tmp_a = tmp_conts.find_all('a')\n",
    "    \n",
    "    for i in range(0, len(tmp_date), 2):\n",
    "        \n",
    "        month = str(tmp_date[i]).split('.')[1]\n",
    "        day = str(tmp_date[i]).split('.')[2]\n",
    "        day = str(day).split('</')[0]\n",
    "        \n",
    "        j = (i/2)\n",
    "      \n",
    "        if month == currentmonth:\n",
    "            if day == currentday:\n",
    "               \n",
    "                tmp_a[j] = tmp_a[j].encode('utf-8')\n",
    "                tmp_str = str(tmp_a[j]).split(\">\")[1]\n",
    "                tmp_title = str(tmp_str).split(\"<\")[0]\n",
    "\n",
    "                tmp_sup[j] = tmp_sup[j].encode('utf-8')\n",
    "                tmp_str = str(tmp_sup[j]).split(\"<em>\")[1]\n",
    "                tmp_ori = (tmp_str).split(\"</em>\")[0]\n",
    "\n",
    "                tmp_str = str(tmp_lst[j]).split(\">\")[1]\n",
    "                tmp_str = str(tmp_str).split(\"\\\"\")[3]\n",
    "                tmp_str= str(tmp_str).split(\"./\")[1]\n",
    "                tmp_link = \"=HYPERLINK(\\\"http://www.kdi.re.kr/policy/\" + tmp_str+\"\\\")\"\n",
    "\n",
    "                dataset.append({ '구분': '중앙부처', '발표처': tmp_ori, '제목': tmp_title, '웹주소': tmp_link})\n",
    "\n",
    "            else:\n",
    "                keepgo = 0\n",
    "        else:\n",
    "            keepgo = 0\n",
    "            \n",
    "    return keepgo"
   ]
  },
  {
   "cell_type": "code",
   "execution_count": 8,
   "metadata": {
    "collapsed": true
   },
   "outputs": [],
   "source": [
    "def get_data_Korea_Cen(html):\n",
    "    keepgo = 1\n",
    "    tmp_policy = html.find_all(class_='search_policy_list')[0]\n",
    "    tmp_date = tmp_policy.find_all(class_='sect')\n",
    "    tmp_dl = tmp_policy.find_all('dl')\n",
    "    \n",
    "    for i in range(0, len(tmp_date), 3):\n",
    "        \n",
    "        month = str(tmp_date[i]).split('.')[1]\n",
    "        day = str(tmp_date[i]).split('.')[2]\n",
    "        day = str(day).split('</')[0]\n",
    "        \n",
    "        j = (i/3)\n",
    "        \n",
    "        if month == currentmonth:\n",
    "            if day == currentday:\n",
    "                tmp_dt = tmp_dl[j].find_all('dt')[0]\n",
    "                tmp_title = tmp_dt.get_text().encode('utf-8')\n",
    "                \n",
    "                tmp_link = str(tmp_dt).split(\"\\\"\")[1]\n",
    "                tmp_link = \"=HYPERLINK(\\\"http://www.korea.go.kr\"+ tmp_link +\"\\\")\"\n",
    "\n",
    "                tmp_dd = tmp_dl[j].find_all('dd')[1].get_text()\n",
    "                tmp_ori = tmp_dd.encode('utf-8').strip()\n",
    "\n",
    "                dataset.append({ '구분': '중앙부처', '발표처': tmp_ori, '제목': tmp_title, '웹주소': tmp_link })\n",
    "            else: \n",
    "                keepgo = 0\n",
    "        else:\n",
    "            keepgo = 0\n",
    "        \n",
    "    return keepgo"
   ]
  },
  {
   "cell_type": "code",
   "execution_count": 9,
   "metadata": {
    "collapsed": true
   },
   "outputs": [],
   "source": [
    "def get_data_Korea_Rem(html):\n",
    "    keepgo = 1\n",
    "    tmp_policy = html.find_all(class_='search_policy_list')[0]\n",
    "    tmp_date = tmp_policy.find_all(class_='sect')\n",
    "    tmp_dl = tmp_policy.find_all('dl')\n",
    "\n",
    "    for i in range(0, len(tmp_date), 3):\n",
    "        \n",
    "        month = str(tmp_date[i]).split('.')[1]\n",
    "        day = str(tmp_date[i]).split('.')[2]\n",
    "        day = str(day).split('</')[0]\n",
    "        \n",
    "        j = (i/3)\n",
    "        \n",
    "        if month == currentmonth:\n",
    "            if day == currentday:\n",
    "                tmp_dt = tmp_dl[j].find_all('dt')[0]\n",
    "                tmp_title = tmp_dt.get_text().encode('utf-8')\n",
    "                \n",
    "                tmp_link = str(tmp_dt).split(\"\\\"\")[1]\n",
    "                tmp_link = \"=HYPERLINK(\\\"http://www.korea.go.kr\"+ tmp_link +\"\\\")\"\n",
    "            \n",
    "                tmp_dd = tmp_dl[j].find_all('dd')[1].get_text()\n",
    "                tmp_ori = tmp_dd.encode('utf-8').strip()\n",
    "                \n",
    "                dataset.append({ '구분': '지자체', '발표처': tmp_ori, '제목': tmp_title, '웹주소': tmp_link })\n",
    "            else: \n",
    "                keepgo = 0\n",
    "        else:\n",
    "            keepgo = 0\n",
    "        \n",
    "    return keepgo"
   ]
  },
  {
   "cell_type": "code",
   "execution_count": 10,
   "metadata": {
    "collapsed": true
   },
   "outputs": [],
   "source": [
    "def WriteDictToCSV(csv_file,csv_columns,dict_data):\n",
    "    try:\n",
    "        with open(csv_file, 'wb') as csvfile:\n",
    "            csvfile.write(u'\\ufeff'.encode('utf-8').strip())\n",
    "            writer = csv.DictWriter(csvfile, fieldnames=csv_columns)\n",
    "            writer.writeheader()\n",
    "            for data in dict_data:\n",
    "                writer.writerow({k:v.encode('utf-8').strip() for k,v in data.items()})\n",
    "    except IOError as (errno, strerror):\n",
    "            print(\"I/O error({0}): {1}\".format(errno, strerror)) \n",
    "    return   "
   ]
  },
  {
   "cell_type": "code",
   "execution_count": 100,
   "metadata": {
    "collapsed": false
   },
   "outputs": [
    {
     "name": "stdout",
     "output_type": "stream",
     "text": [
      "Please write your search key for Google etri\n"
     ]
    }
   ],
   "source": [
    "final_list = []\n",
    "google_list = []\n",
    "tmp_list = []\n",
    "search_key = raw_input(\"Please write your search key for Google \")"
   ]
  },
  {
   "cell_type": "code",
   "execution_count": 12,
   "metadata": {
    "collapsed": false
   },
   "outputs": [],
   "source": [
    "dataset = []\n",
    "date = str(datetime.today()).split(\" \")[0]\n",
    "currentmonth =  date.split('-')[1]\n",
    "currentday =  date.split('-')[2]"
   ]
  },
  {
   "cell_type": "code",
   "execution_count": 13,
   "metadata": {
    "collapsed": false
   },
   "outputs": [],
   "source": [
    "p = 1\n",
    "keepgo = 1\n",
    "while(keepgo == 1):\n",
    "    \n",
    "    test_html = get_html_KDI(p)\n",
    "    keepgo = get_data_KDI(test_html)\n",
    "    p= p+1"
   ]
  },
  {
   "cell_type": "code",
   "execution_count": 14,
   "metadata": {
    "collapsed": true
   },
   "outputs": [],
   "source": [
    "p = 1\n",
    "keepgo = 1\n",
    "while(keepgo == 1):\n",
    "    Korea_html = get_html_Korea_Cen(p)\n",
    "    keepgo = get_data_Korea_Cen(Korea_html)\n",
    "    p = p+1"
   ]
  },
  {
   "cell_type": "code",
   "execution_count": 15,
   "metadata": {
    "collapsed": true
   },
   "outputs": [],
   "source": [
    "p = 1\n",
    "keepgo = 1\n",
    "while(keepgo == 1):\n",
    "    Korea_rem_html = get_html_Korea_Rem(p)\n",
    "    keepgo = get_data_Korea_Rem(Korea_rem_html)\n",
    "    p = p+1"
   ]
  },
  {
   "cell_type": "code",
   "execution_count": 101,
   "metadata": {
    "collapsed": false
   },
   "outputs": [],
   "source": [
    "for i in range(0,20):\n",
    "    delay = random.randrange(10,30)\n",
    "    html = get_google_list_html(i*10, search_key)\n",
    "    tmp_list = get_google_article(html)\n",
    "    if len(tmp_list) == 0:\n",
    "        break\n",
    "    google_list = google_list + tmp_list\n",
    "    time.sleep(delay)"
   ]
  },
  {
   "cell_type": "code",
   "execution_count": 102,
   "metadata": {
    "collapsed": false
   },
   "outputs": [],
   "source": [
    "csv_columns = ['구분', '발표처', '제목', '웹주소']\n",
    "currentPath = os.getcwd()\n",
    "csv_file = str(date)+\".csv\"\n",
    "final_list = google_list + dataset"
   ]
  },
  {
   "cell_type": "code",
   "execution_count": 103,
   "metadata": {
    "collapsed": false
   },
   "outputs": [],
   "source": [
    "WriteDictToCSV(csv_file,csv_columns,final_list)"
   ]
  },
  {
   "cell_type": "code",
   "execution_count": null,
   "metadata": {
    "collapsed": true
   },
   "outputs": [],
   "source": []
  }
 ],
 "metadata": {
  "kernelspec": {
   "display_name": "Python 2",
   "language": "python",
   "name": "python2"
  },
  "language_info": {
   "codemirror_mode": {
    "name": "ipython",
    "version": 2
   },
   "file_extension": ".py",
   "mimetype": "text/x-python",
   "name": "python",
   "nbconvert_exporter": "python",
   "pygments_lexer": "ipython2",
   "version": "2.7.11"
  }
 },
 "nbformat": 4,
 "nbformat_minor": 0
}
