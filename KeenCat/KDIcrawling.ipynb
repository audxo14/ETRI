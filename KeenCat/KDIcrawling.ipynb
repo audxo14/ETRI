{
 "cells": [
  {
   "cell_type": "code",
   "execution_count": 72,
   "metadata": {
    "collapsed": false
   },
   "outputs": [],
   "source": [
    "import requests\n",
    "import urllib\n",
    "import unicodecsv as csv\n",
    "from bs4 import BeautifulSoup\n",
    "from datetime import datetime\n",
    "import os\n"
   ]
  },
  {
   "cell_type": "code",
   "execution_count": 73,
   "metadata": {
    "collapsed": true
   },
   "outputs": [],
   "source": [
    "def get_topic_list_html(pagenum):\n",
    "    r = requests.get('http://www.kdi.re.kr/policy/ep_list.jsp?pg='+str(pagenum)+'&&pp=10')\n",
    "    \n",
    "    soup = BeautifulSoup(r.text, \"lxml\")\n",
    "    return soup"
   ]
  },
  {
   "cell_type": "code",
   "execution_count": 74,
   "metadata": {
    "collapsed": false
   },
   "outputs": [],
   "source": [
    "dataset = []\n",
    "date = str(datetime.today()).split(\" \")[0]\n",
    "currentmonth =  date.split('-')[1]\n",
    "currentday =  date.split('-')[2]"
   ]
  },
  {
   "cell_type": "code",
   "execution_count": 75,
   "metadata": {
    "collapsed": false
   },
   "outputs": [],
   "source": [
    "def get_data(html):\n",
    "    keepgo = 1\n",
    "    tmp_conts = html.find_all(class_=\"rpt_conts\")[0]\n",
    "    tmp_date = tmp_conts.find_all(class_=\"nlt\")\n",
    "    \n",
    "    for i in range(0, len(tmp_date), 2):\n",
    "        \n",
    "        month = str(tmp_date[i]).split('.')[1]\n",
    "        day = str(tmp_date[i]).split('.')[2]\n",
    "        day = str(day).split('</')[0]\n",
    "        \n",
    "        j = (i/2)\n",
    "      \n",
    "        if month == currentmonth:\n",
    "            if day == currentday:\n",
    "                tmp_li = tmp_conts.find_all('a')\n",
    "                tmp_li[j] = tmp_li[j].encode('utf-8')\n",
    "                tmp_str = str(tmp_li[j]).split(\">\")[1]\n",
    "                tmp_title = str(tmp_str).split(\"<\")[0]\n",
    "\n",
    "                \n",
    "                tmp_li = tmp_conts.find_all(class_=\"rpt_sup\")\n",
    "\n",
    "\n",
    "                tmp_li[j] = tmp_li[j].encode('utf-8')\n",
    "                tmp_str = str(tmp_li[j]).split(\"<em>\")[1]\n",
    "                tmp_ori = (tmp_str).split(\"</em>\")[0]\n",
    "                \n",
    "\n",
    "                tmp_li = tmp_conts.find_all(class_=\"rpt_lst\")\n",
    "\n",
    "\n",
    "                tmp_str = str(tmp_li[j]).split(\">\")[1]\n",
    "                tmp_str = str(tmp_str).split(\"\\\"\")[3]\n",
    "                tmp_str= str(tmp_str).split(\"./\")[1]\n",
    "                tmp_link = \"www.kdi.re.kr/policy/\" + tmp_str\n",
    "\n",
    "                dataset.append({ '구분': '중앙부처', '발표처': tmp_ori, '제목': tmp_title, '웹주소': tmp_link})\n",
    "\n",
    "            else:\n",
    "                keepgo = 0\n",
    "        else:\n",
    "            keepgo = 0\n",
    "            \n",
    "    return keepgo"
   ]
  },
  {
   "cell_type": "code",
   "execution_count": 77,
   "metadata": {
    "collapsed": false
   },
   "outputs": [],
   "source": [
    "p = 1\n",
    "keepgo = 1\n",
    "while(keepgo == 1):\n",
    "    \n",
    "    test_html = get_topic_list_html(p)\n",
    "    keepgo = get_data(test_html)\n",
    "    p= p+1"
   ]
  },
  {
   "cell_type": "code",
   "execution_count": 78,
   "metadata": {
    "collapsed": true
   },
   "outputs": [],
   "source": [
    "def WriteDictToCSV(csv_file,csv_columns,dict_data):\n",
    "    try:\n",
    "        with open(csv_file, 'wb') as csvfile:\n",
    "            csvfile.write(u'\\ufeff'.encode('utf8'))\n",
    "            writer = csv.DictWriter(csvfile, fieldnames=csv_columns)\n",
    "            writer.writeheader()\n",
    "            for data in dict_data:\n",
    "                writer.writerow({k:v for k,v in data.items()})\n",
    "    except IOError as (errno, strerror):\n",
    "            print(\"I/O error({0}): {1}\".format(errno, strerror)) \n",
    "    return \n"
   ]
  },
  {
   "cell_type": "code",
   "execution_count": 79,
   "metadata": {
    "collapsed": false
   },
   "outputs": [],
   "source": [
    "csv_columns = [\"구분\", \"발표처\", \"제목\", \"웹주소\"]\n",
    "currentPath = os.getcwd()\n",
    "csv_file = date + \".csv\"\n",
    "WriteDictToCSV(csv_file, csv_columns, dataset)\n"
   ]
  }
 ],
 "metadata": {
  "anaconda-cloud": {},
  "kernelspec": {
   "display_name": "Python [Root]",
   "language": "python",
   "name": "Python [Root]"
  },
  "language_info": {
   "codemirror_mode": {
    "name": "ipython",
    "version": 2
   },
   "file_extension": ".py",
   "mimetype": "text/x-python",
   "name": "python",
   "nbconvert_exporter": "python",
   "pygments_lexer": "ipython2",
   "version": "2.7.11"
  }
 },
 "nbformat": 4,
 "nbformat_minor": 0
}
