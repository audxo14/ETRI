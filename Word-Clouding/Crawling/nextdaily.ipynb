{
 "cells": [
  {
   "cell_type": "markdown",
   "metadata": {},
   "source": [
    "# NextDaily crawling"
   ]
  },
  {
   "cell_type": "code",
   "execution_count": 1,
   "metadata": {
    "collapsed": false
   },
   "outputs": [],
   "source": [
    "import requests\n",
    "from pattern import web\n",
    "import re"
   ]
  },
  {
   "cell_type": "markdown",
   "metadata": {
    "collapsed": true
   },
   "source": [
    "www.nextdaily.com crawling"
   ]
  },
  {
   "cell_type": "markdown",
   "metadata": {},
   "source": [
    "각 분류별 subnum\n",
    "\n",
    "    IT정책      16\n",
    "    통신미디어  17\n",
    "    홈/모바일   02\n",
    "    컴퓨팅      01\n",
    "    정보가전    03"
   ]
  },
  {
   "cell_type": "code",
   "execution_count": 103,
   "metadata": {
    "collapsed": false
   },
   "outputs": [],
   "source": [
    "\"\"\"\n",
    "subnum 배열 저장 후 제목, 내용, 날짜 가져오기\n",
    "\n",
    "\"\"\"\n",
    "#-*- coding: utf-8 -*-\n",
    "subnum = [\"16\", \"17\", \"02\", \"01\", \"03\"]\n",
    "dataset = []\n",
    "count = 0\n",
    "\n",
    "def get_data(subnum, pagenum):\n",
    "    r = requests.get(\"http://www.nextdaily.co.kr/news/section.html?id1=\"+ subnum +\"&page\" + str(pagenum))\n",
    "    element = web.Element(r.text)\n",
    "    for i in range(0, 14):\n",
    "        title = element('dl.section_arti > dd > strong > a')[i].content\n",
    "\n",
    "        artid = element('dl.section_arti > dd > strong')[i].content\n",
    "        artid = re.split('>', artid)[0]\n",
    "        artid = re.split('=', artid)[2]\n",
    "        artid = re.split('\"', artid)[0]\n",
    "\n",
    "        content_html = requests.get(\"http://www.nextdaily.co.kr/news/article.html?id=\" + artid)\n",
    "        ele = web.Element(content_html.text)\n",
    "\n",
    "        content = ele('div.con_box > p')[0].content\n",
    "        content = re.split('</span>', content)[1]\n",
    "        content = re.sub('<br />', ' ', content)\n",
    "\n",
    "\n",
    "        date = element('span.en')[i].content\n",
    "\n",
    "        dicfordata = { 'title' : title, 'content' : content, 'date' : date }\n",
    "\n",
    "        dataset.append(dicfordata)"
   ]
  },
  {
   "cell_type": "code",
   "execution_count": 105,
   "metadata": {
    "collapsed": false,
    "scrolled": true
   },
   "outputs": [
    {
     "name": "stdout",
     "output_type": "stream",
     "text": [
      "1022\n",
      "이통3사가 경매를 통해 추가 주파수를 확보했지만 연내 LTE 1Gbps 속도 구현은 어려울 전망이다. 이통사의 투자 의지와 단말 하드웨어의 제약으로 인한 결과다. 1Gbps 속도는 국내서는 빠르면 내년쯤 가능할 것으로 예상된다. \n",
      " \n",
      "28일 관련 업계에 따르면 올해 국내서는 1Gbps 속도의 LTE 구현이 어려울 것으로 예상된다. 1Gbps 속도가 가능하려면 3개의 LTE 광대역이 필요하고, 캐리어애그리게이션(CA)과 4x4 미모(MIMO), 다운링크 256쾀 등 고도의 네트워크 기술이 요구된다.\n"
     ]
    }
   ],
   "source": [
    "for i in range(0,1):\n",
    "    for page in range(1, 9):\n",
    "        get_data(subnum[i], page)\n",
    "\n",
    "for i in range(1,4):\n",
    "    for page in range(1, 20):\n",
    "        get_data(subnum[i], page)\n",
    "\n",
    "print len(dataset)\n",
    "print dataset[318]['content']"
   ]
  },
  {
   "cell_type": "code",
   "execution_count": 106,
   "metadata": {
    "collapsed": false
   },
   "outputs": [
    {
     "name": "stdout",
     "output_type": "stream",
     "text": [
      "오는 2018년 IoT 기기가 휴대폰을 넘어설 전망이다. \n",
      " \n",
      "28일 에릭슨엘지가 출간한 &lsquo;에릭슨 모빌리티 리포트&rsquo;에 따르면 오는 2018년 사물인터넷(IoT)은 커넥티드 기기의 가장 큰 분야로, 휴대전화를 능가할 것으로 예상된다.\n"
     ]
    }
   ],
   "source": [
    "print dataset[317]['content']"
   ]
  },
  {
   "cell_type": "code",
   "execution_count": null,
   "metadata": {
    "collapsed": true
   },
   "outputs": [],
   "source": []
  }
 ],
 "metadata": {
  "anaconda-cloud": {},
  "kernelspec": {
   "display_name": "Python [Root]",
   "language": "python",
   "name": "Python [Root]"
  },
  "language_info": {
   "codemirror_mode": {
    "name": "ipython",
    "version": 2
   },
   "file_extension": ".py",
   "mimetype": "text/x-python",
   "name": "python",
   "nbconvert_exporter": "python",
   "pygments_lexer": "ipython2",
   "version": "2.7.11"
  }
 },
 "nbformat": 4,
 "nbformat_minor": 0
}
