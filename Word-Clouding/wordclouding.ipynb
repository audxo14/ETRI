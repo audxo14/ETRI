{
 "cells": [
  {
   "cell_type": "markdown",
   "metadata": {},
   "source": [
    "# NextDaily crawling"
   ]
  },
  {
   "cell_type": "code",
   "execution_count": 1,
   "metadata": {
    "collapsed": false
   },
   "outputs": [],
   "source": [
    "import requests\n",
    "from pattern import web\n",
    "import re"
   ]
  },
  {
   "cell_type": "markdown",
   "metadata": {
    "collapsed": true
   },
   "source": [
    "www.nextdaily.com crawling"
   ]
  },
  {
   "cell_type": "markdown",
   "metadata": {},
   "source": [
    "각 분류별 subnum\n",
    "\n",
    "    IT정책      16\n",
    "    통신미디어  17\n",
    "    홈/모바일   02\n",
    "    컴퓨팅      01\n",
    "    정보가전    03"
   ]
  },
  {
   "cell_type": "code",
   "execution_count": 72,
   "metadata": {
    "collapsed": false,
    "scrolled": false
   },
   "outputs": [
    {
     "name": "stdout",
     "output_type": "stream",
     "text": [
      "nouns = 구분\n",
      "지자체\n",
      "[{'color': (235, 234, 255), 'tag': '&amp', 'size': 100}, {'color': (65, 55, 157), 'tag': '\\xec\\xa7\\x80\\xec\\x9e\\x90\\xec\\xb2\\xb4', 'size': 100}, {'color': (94, 101, 197), 'tag': '\\xea\\xb3\\xb5\\xea\\xb3\\xa0', 'size': 100}, {'color': (173, 218, 206), 'tag': '2016\\xeb\\x85\\x84', 'size': 100}, {'color': (125, 26, 108), 'tag': '\\xec\\xa4\\x91\\xec\\x95\\x99\\xeb\\xb6\\x80\\xec\\xb2\\x98', 'size': 100}, {'color': (202, 93, 215), 'tag': '\\xea\\xb2\\xbd\\xea\\xb8\\xb0', 'size': 100}, {'color': (102, 209, 194), 'tag': '\\xec\\x84\\x9c\\xec\\x9a\\xb8\\xed\\x8a\\xb9\\xeb\\xb3\\x84\\xec\\x8b\\x9c', 'size': 100}, {'color': (171, 1, 236), 'tag': '1', 'size': 100}, {'color': (93, 23, 3), 'tag': '\\xea\\xb2\\xbd\\xec\\x83\\x81\\xeb\\x82\\xa8', 'size': 100}, {'color': (220, 107, 150), 'tag': '\\xeb\\xaa\\xa8\\xec\\xa7\\x91', 'size': 100}, {'color': (252, 239, 161), 'tag': '\\xeb\\xb6\\x80\\xec\\x82\\xb0\\xea\\xb4\\x91\\xec\\x97\\xad\\xec\\x8b\\x9c', 'size': 100}, {'color': (187, 164, 107), 'tag': '\\xea\\xb3\\xa0\\xec\\x8b\\x9c', 'size': 100}, {'color': (29, 53, 76), 'tag': '\\xeb\\x82\\xb4', 'size': 100}, {'color': (54, 238, 52), 'tag': '\\xec\\xa0\\x95\\xec\\xb1\\x85\\xeb\\xb8\\x8c\\xeb\\xa6\\xac\\xed\\x95\\x91', 'size': 100}, {'color': (60, 178, 248), 'tag': '\\xeb\\x82\\xa8\\xed\\x95\\xb4', 'size': 100}, {'color': (163, 75, 208), 'tag': '2', 'size': 100}, {'color': (40, 166, 126), 'tag': '\\xea\\xb3\\xb5\\xec\\x8b\\x9c\\xec\\x86\\xa1\\xeb\\x8b\\xac', 'size': 100}, {'color': (192, 124, 159), 'tag': '3', 'size': 100}, {'color': (0, 215, 185), 'tag': '\\xec\\xb6\\xa9\\xec\\xb2\\xad\\xeb\\xb6\\x81', 'size': 100}, {'color': (50, 242, 253), 'tag': '4', 'size': 100}, {'color': (160, 214, 253), 'tag': '\\xec\\xa0\\x84\\xeb\\x9d\\xbc\\xeb\\x82\\xa8', 'size': 100}, {'color': (78, 47, 82), 'tag': '\\xea\\xb0\\x95\\xec\\x9b\\x90', 'size': 100}, {'color': (247, 75, 115), 'tag': '\\xea\\xb2\\xbd\\xec\\x83\\x81\\xeb\\xb6\\x81', 'size': 100}, {'color': (217, 45, 116), 'tag': '6\\xec\\x9b\\x94', 'size': 100}, {'color': (67, 107, 245), 'tag': '\\xeb\\x8c\\x80\\xec\\xa0\\x84\\xea\\xb4\\x91\\xec\\x97\\xad\\xec\\x8b\\x9c', 'size': 100}, {'color': (111, 15, 228), 'tag': '\\xec\\xa0\\x84\\xeb\\x9d\\xbc\\xeb\\xb6\\x81', 'size': 100}, {'color': (219, 87, 12), 'tag': '\\xea\\xb0\\x9c\\xec\\xb5\\x9c', 'size': 100}, {'color': (126, 164, 112), 'tag': '2016', 'size': 100}, {'color': (17, 23, 191), 'tag': '/ep_view.', 'size': 100}, {'color': (136, 166, 75), 'tag': '\\xeb\\x8c\\x80\\xea\\xb5\\xac\\xea\\xb4\\x91\\xec\\x97\\xad\\xec\\x8b\\x9c', 'size': 100}, {'color': (111, 87, 167), 'tag': '\\xea\\xb4\\x91\\xec\\xa3\\xbc\\xea\\xb4\\x91\\xec\\x97\\xad\\xec\\x8b\\x9c', 'size': 100}, {'color': (116, 28, 173), 'tag': '11', 'size': 100}, {'color': (249, 105, 8), 'tag': '\\xeb\\xb0\\x98\\xec\\x86\\xa1\\xeb\\xb6\\x84', 'size': 100}, {'color': (138, 163, 90), 'tag': '\\xec\\xa0\\x9c\\xec\\xa3\\xbc\\xed\\x8a\\xb9\\xeb\\xb3\\x84\\xec\\x9e\\x90\\xec\\xb9\\x98', 'size': 100}, {'color': (230, 243, 120), 'tag': '14', 'size': 100}, {'color': (129, 108, 175), 'tag': '2015\\xeb\\x85\\x84', 'size': 100}, {'color': (15, 78, 204), 'tag': '10', 'size': 100}, {'color': (49, 137, 55), 'tag': '13', 'size': 100}, {'color': (29, 103, 140), 'tag': '12', 'size': 100}, {'color': (67, 86, 115), 'tag': '15', 'size': 100}, {'color': (186, 38, 150), 'tag': '17', 'size': 100}, {'color': (153, 249, 155), 'tag': '16', 'size': 100}, {'color': (104, 123, 157), 'tag': '19', 'size': 100}, {'color': (136, 172, 75), 'tag': '18', 'size': 100}, {'color': (63, 250, 241), 'tag': '24', 'size': 100}, {'color': (189, 251, 254), 'tag': '5', 'size': 100}, {'color': (69, 88, 235), 'tag': '6', 'size': 100}, {'color': (183, 38, 201), 'tag': '25', 'size': 100}, {'color': (49, 52, 157), 'tag': '26', 'size': 100}, {'color': (53, 97, 41), 'tag': '27', 'size': 100}]\n"
     ]
    }
   ],
   "source": [
    "#! /usr/bin/python2.7\n",
    "# -*- coding: cp949 -*-\n",
    "\n",
    "from collections import Counter\n",
    "import urllib\n",
    "import random\n",
    "import webbrowser\n",
    "\n",
    "from konlpy.tag import Hannanum\n",
    "from lxml import html\n",
    "import pytagcloud # requires Korean font support\n",
    "\n",
    "\n",
    "r = lambda: random.randint(0,255)\n",
    "color = lambda: (r(), r(), r())\n",
    "\n",
    "def get_bill_text():\n",
    "    with open('2016-07-01.txt', 'r') as f:\n",
    "        text = f.read()\n",
    "        text = text.encode('utf-8')\n",
    "        \n",
    "    return text.decode('utf-8')\n",
    "\n",
    "def get_tags(text, ntags=50, multiplier=10):\n",
    "    h = Hannanum()\n",
    "    nouns = h.nouns(text)\n",
    "    print \"nouns = \" + nouns[0].encode('utf-8')\n",
    "    count = Counter(nouns)\n",
    "    print count.most_common(ntags)[1][0].encode('utf-8')\n",
    "    return [{ 'color': color(), 'tag': n.encode('utf-8'), 'size': multiplier*10 }\n",
    "                for n, c in count.most_common(ntags)]\n",
    "\n",
    "def draw_cloud(tags, filename, fontname='Crimson Text', size=(800, 600)):\n",
    "    pytagcloud.create_tag_image(tags, filename, fontname=fontname, size=size)\n",
    "    webbrowser.open(filename)\n",
    "\n",
    "\n",
    "\n",
    "text = get_bill_text()\n",
    "tags = get_tags(text)\n",
    "print (tags)\n",
    "#draw_cloud(tags, 'korean.png')"
   ]
  },
  {
   "cell_type": "code",
   "execution_count": 47,
   "metadata": {
    "collapsed": false,
    "scrolled": true
   },
   "outputs": [
    {
     "ename": "NameError",
     "evalue": "global name 'Tagger' is not defined",
     "output_type": "error",
     "traceback": [
      "\u001b[1;31m---------------------------------------------------------------------------\u001b[0m",
      "\u001b[1;31mNameError\u001b[0m                                 Traceback (most recent call last)",
      "\u001b[1;32m<ipython-input-47-25a33f0d380b>\u001b[0m in \u001b[0;36m<module>\u001b[1;34m()\u001b[0m\n\u001b[0;32m     12\u001b[0m     \u001b[0mtext\u001b[0m \u001b[1;33m=\u001b[0m \u001b[0mf\u001b[0m\u001b[1;33m.\u001b[0m\u001b[0mread\u001b[0m\u001b[1;33m(\u001b[0m\u001b[1;33m)\u001b[0m\u001b[1;33m.\u001b[0m\u001b[0mencode\u001b[0m\u001b[1;33m(\u001b[0m\u001b[1;34m'utf-8'\u001b[0m\u001b[1;33m)\u001b[0m\u001b[1;33m\u001b[0m\u001b[0m\n\u001b[0;32m     13\u001b[0m \u001b[1;31m# Get nouns and count\u001b[0m\u001b[1;33m\u001b[0m\u001b[1;33m\u001b[0m\u001b[0m\n\u001b[1;32m---> 14\u001b[1;33m \u001b[0mm\u001b[0m \u001b[1;33m=\u001b[0m \u001b[0mMecab\u001b[0m\u001b[1;33m(\u001b[0m\u001b[1;33m)\u001b[0m\u001b[1;33m\u001b[0m\u001b[0m\n\u001b[0m\u001b[0;32m     15\u001b[0m \u001b[0mnouns\u001b[0m \u001b[1;33m=\u001b[0m \u001b[0mm\u001b[0m\u001b[1;33m.\u001b[0m\u001b[0mnouns\u001b[0m\u001b[1;33m(\u001b[0m\u001b[0mtext\u001b[0m\u001b[1;33m)\u001b[0m\u001b[1;33m\u001b[0m\u001b[0m\n\u001b[0;32m     16\u001b[0m \u001b[0mcount\u001b[0m \u001b[1;33m=\u001b[0m \u001b[0mCounter\u001b[0m\u001b[1;33m(\u001b[0m\u001b[0mnouns\u001b[0m\u001b[1;33m)\u001b[0m\u001b[1;33m\u001b[0m\u001b[0m\n",
      "\u001b[1;32mC:\\Users\\KimHyeMin\\Anaconda2\\lib\\site-packages\\konlpy\\tag\\_mecab.pyc\u001b[0m in \u001b[0;36m__init__\u001b[1;34m(self, dicpath)\u001b[0m\n\u001b[0;32m    100\u001b[0m     \u001b[1;32mdef\u001b[0m \u001b[0m__init__\u001b[0m\u001b[1;33m(\u001b[0m\u001b[0mself\u001b[0m\u001b[1;33m,\u001b[0m \u001b[0mdicpath\u001b[0m\u001b[1;33m=\u001b[0m\u001b[1;34m'/usr/local/lib/mecab/dic/mecab-ko-dic'\u001b[0m\u001b[1;33m)\u001b[0m\u001b[1;33m:\u001b[0m\u001b[1;33m\u001b[0m\u001b[0m\n\u001b[0;32m    101\u001b[0m         \u001b[1;32mtry\u001b[0m\u001b[1;33m:\u001b[0m\u001b[1;33m\u001b[0m\u001b[0m\n\u001b[1;32m--> 102\u001b[1;33m             \u001b[0mself\u001b[0m\u001b[1;33m.\u001b[0m\u001b[0mtagger\u001b[0m \u001b[1;33m=\u001b[0m \u001b[0mTagger\u001b[0m\u001b[1;33m(\u001b[0m\u001b[1;34m'-d %s'\u001b[0m \u001b[1;33m%\u001b[0m \u001b[0mdicpath\u001b[0m\u001b[1;33m)\u001b[0m\u001b[1;33m\u001b[0m\u001b[0m\n\u001b[0m\u001b[0;32m    103\u001b[0m             \u001b[0mself\u001b[0m\u001b[1;33m.\u001b[0m\u001b[0mtagset\u001b[0m \u001b[1;33m=\u001b[0m \u001b[0mutils\u001b[0m\u001b[1;33m.\u001b[0m\u001b[0mread_json\u001b[0m\u001b[1;33m(\u001b[0m\u001b[1;34m'%s/data/tagset/mecab.json'\u001b[0m \u001b[1;33m%\u001b[0m \u001b[0mutils\u001b[0m\u001b[1;33m.\u001b[0m\u001b[0minstallpath\u001b[0m\u001b[1;33m)\u001b[0m\u001b[1;33m\u001b[0m\u001b[0m\n\u001b[0;32m    104\u001b[0m         \u001b[1;32mexcept\u001b[0m \u001b[0mRuntimeError\u001b[0m\u001b[1;33m:\u001b[0m\u001b[1;33m\u001b[0m\u001b[0m\n",
      "\u001b[1;31mNameError\u001b[0m: global name 'Tagger' is not defined"
     ]
    }
   ],
   "source": [
    "from collections import Counter\n",
    "import random; random.seed(0)\n",
    "import webbrowser\n",
    "from konlpy.tag import Mecab\n",
    "import pytagcloud\n",
    "from konlpy.tag import Kkma\n",
    "\n",
    "r = lambda: random.randint(0,255)\n",
    "color = lambda: (r(), r(), r())\n",
    "# Read file\n",
    "with open('2016-07-01.txt', 'r') as f:\n",
    "    text = f.read().encode('utf-8')\n",
    "# Get nouns and count\n",
    "m = Mecab()\n",
    "nouns = m.nouns(text)\n",
    "count = Counter(nouns)\n",
    "# Draw word cloud\n",
    "tags = [{'color': color(), 'tag': n, 'size': c/10} for n, c in count.most_common(50)]\n",
    "pytagcloud.create_tag_image(tags, 'wordcloud.png', size=(800, 600), fontname='Crimson Text')\n",
    "webbrowser.open('wordcloud.png')"
   ]
  },
  {
   "cell_type": "code",
   "execution_count": 48,
   "metadata": {
    "collapsed": false
   },
   "outputs": [
    {
     "name": "stdout",
     "output_type": "stream",
     "text": [
      "[{'color': (216, 194, 107), 'tag': u'\\ub3d9\\ubb3c', 'size': 80}, {'color': (66, 130, 103), 'tag': u'\\ud589\\uc704', 'size': 80}, {'color': (200, 77, 122), 'tag': u'\\ucd2c\\uc601', 'size': 60}, {'color': (149, 232, 129), 'tag': u'\\uc778\\ud130\\ub137', 'size': 60}, {'color': (72, 193, 158), 'tag': u'\\ub2e4\\uc74c', 'size': 50}, {'color': (64, 232, 251), 'tag': u'\\ub4f1', 'size': 50}, {'color': (207, 230, 79), 'tag': u'\\uc601\\uc0c1\\ubb3c', 'size': 50}, {'color': (186, 230, 175), 'tag': u'\\uc218', 'size': 40}, {'color': (120, 25, 111), 'tag': u'\\ud638', 'size': 40}, {'color': (156, 233, 247), 'tag': u'\\u2460', 'size': 40}, {'color': (122, 221, 66), 'tag': u'\\uac8c\\uc7ac', 'size': 40}, {'color': (206, 140, 3), 'tag': u'\\uace0\\ud1b5', 'size': 40}, {'color': (184, 102, 211), 'tag': u'\\ud604\\ud589', 'size': 40}, {'color': (171, 0, 126), 'tag': u'\\ub7b5', 'size': 40}, {'color': (222, 62, 83), 'tag': u'\\uc0dd', 'size': 40}, {'color': (222, 48, 145), 'tag': u'\\u223c', 'size': 40}, {'color': (61, 247, 205), 'tag': u'\\uc2e0\\uc124', 'size': 40}, {'color': (114, 20, 81), 'tag': u'\\ud559\\ub300', 'size': 40}, {'color': (130, 238, 27), 'tag': u'\\ub204\\uad6c', 'size': 30}, {'color': (141, 180, 140), 'tag': u'\\uc81c8\\uc870\\uc81c5\\ud56d', 'size': 30}, {'color': (208, 138, 246), 'tag': u'\\uc758', 'size': 30}, {'color': (154, 150, 113), 'tag': u'\\uc774', 'size': 30}, {'color': (152, 98, 147), 'tag': u'\\ud310\\ub9e4\\xb7\\uc804\\uc2dc\\xb7\\uc804\\ub2ec\\xb7\\uc0c1\\uc601', 'size': 30}, {'color': (74, 48, 47), 'tag': u'\\uae08\\uc9c0', 'size': 30}, {'color': (156, 168, 121), 'tag': u'\\ub3d9\\ubb3c\\ubcf4\\ud638\\ubc95', 'size': 30}, {'color': (22, 193, 224), 'tag': u'\\uac83', 'size': 20}, {'color': (236, 215, 229), 'tag': u'\\ud589', 'size': 20}, {'color': (236, 138, 100), 'tag': u'\\uc704\\ubc18', 'size': 20}, {'color': (180, 70, 207), 'tag': u'\\ud604\\ud589\\ubc95', 'size': 20}, {'color': (217, 229, 150), 'tag': u'\\uc0ac\\uc720', 'size': 20}, {'color': (243, 148, 115), 'tag': u'\\ud1b5', 'size': 20}, {'color': (169, 255, 234), 'tag': u'2.', 'size': 20}, {'color': (203, 21, 156), 'tag': u'\\uace0\\uc591\\uc2dc\\ud0a4', 'size': 20}, {'color': (124, 161, 216), 'tag': u'\\ud64d\\ubcf4', 'size': 20}, {'color': (62, 187, 29), 'tag': u'12', 'size': 20}, {'color': (56, 203, 85), 'tag': u'\\u2464', 'size': 20}, {'color': (208, 25, 37), 'tag': u'\\uad76\\uc8fc\\ub9bc', 'size': 20}, {'color': (178, 11, 146), 'tag': u'\\ubd80\\uacfc', 'size': 20}, {'color': (232, 136, 174), 'tag': u'\\uc77c\\ubd80\\uac1c\\uc815\\ubc95\\ub960\\uc548', 'size': 20}, {'color': (6, 162, 155), 'tag': u'\\u2461\\u318d\\u2462', 'size': 20}, {'color': (147, 100, 94), 'tag': u'\\ud0dc\\ub9cc', 'size': 20}, {'color': (251, 9, 5), 'tag': u'\\ud45c\\uc2dc', 'size': 20}, {'color': (246, 47, 31), 'tag': u'1\\uc7582', 'size': 20}, {'color': (53, 204, 239), 'tag': u'\\uc758\\uc2dd', 'size': 20}, {'color': (5, 108, 25), 'tag': u'\\ub9d0', 'size': 20}, {'color': (66, 56, 165), 'tag': u'\\u2463', 'size': 20}, {'color': (89, 46, 128), 'tag': u'\\ubc95', 'size': 20}, {'color': (10, 25, 252), 'tag': u'\\uc81c\\uc678', 'size': 20}, {'color': (51, 91, 187), 'tag': u'\\uc81c8\\uc870', 'size': 20}, {'color': (214, 235, 43), 'tag': u'\\ubb3c', 'size': 20}]\n"
     ]
    },
    {
     "ename": "AttributeError",
     "evalue": "Invalid font name. Should be one of Nobile, Old Standard TT, Cantarell, Reenie Beanie, Cuprum, Molengo, Neucha, Philosopher, Yanone Kaffeesatz, Cardo, Neuton, Inconsolata, Crimson Text, Josefin Sans, Droid Sans, Lobster, IM Fell DW Pica, Vollkorn, Tangerine, Coustard, PT Sans Regular",
     "output_type": "error",
     "traceback": [
      "\u001b[1;31m---------------------------------------------------------------------------\u001b[0m",
      "\u001b[1;31mAttributeError\u001b[0m                            Traceback (most recent call last)",
      "\u001b[1;32m<ipython-input-48-e8e0314c298c>\u001b[0m in \u001b[0;36m<module>\u001b[1;34m()\u001b[0m\n\u001b[0;32m     43\u001b[0m \u001b[0mtags\u001b[0m \u001b[1;33m=\u001b[0m \u001b[0mget_tags\u001b[0m\u001b[1;33m(\u001b[0m\u001b[0mtext\u001b[0m\u001b[1;33m)\u001b[0m\u001b[1;33m\u001b[0m\u001b[0m\n\u001b[0;32m     44\u001b[0m \u001b[1;32mprint\u001b[0m\u001b[1;33m(\u001b[0m\u001b[0mtags\u001b[0m\u001b[1;33m)\u001b[0m\u001b[1;33m\u001b[0m\u001b[0m\n\u001b[1;32m---> 45\u001b[1;33m \u001b[0mdraw_cloud\u001b[0m\u001b[1;33m(\u001b[0m\u001b[0mtags\u001b[0m\u001b[1;33m,\u001b[0m \u001b[1;34m'wordcloud.png'\u001b[0m\u001b[1;33m)\u001b[0m\u001b[1;33m\u001b[0m\u001b[0m\n\u001b[0m",
      "\u001b[1;32m<ipython-input-48-e8e0314c298c>\u001b[0m in \u001b[0;36mdraw_cloud\u001b[1;34m(tags, filename, fontname, size)\u001b[0m\n\u001b[0;32m     35\u001b[0m \u001b[1;33m\u001b[0m\u001b[0m\n\u001b[0;32m     36\u001b[0m \u001b[1;32mdef\u001b[0m \u001b[0mdraw_cloud\u001b[0m\u001b[1;33m(\u001b[0m\u001b[0mtags\u001b[0m\u001b[1;33m,\u001b[0m \u001b[0mfilename\u001b[0m\u001b[1;33m,\u001b[0m \u001b[0mfontname\u001b[0m\u001b[1;33m=\u001b[0m\u001b[1;34m'Noto Sans CJK'\u001b[0m\u001b[1;33m,\u001b[0m \u001b[0msize\u001b[0m\u001b[1;33m=\u001b[0m\u001b[1;33m(\u001b[0m\u001b[1;36m800\u001b[0m\u001b[1;33m,\u001b[0m \u001b[1;36m600\u001b[0m\u001b[1;33m)\u001b[0m\u001b[1;33m)\u001b[0m\u001b[1;33m:\u001b[0m\u001b[1;33m\u001b[0m\u001b[0m\n\u001b[1;32m---> 37\u001b[1;33m     \u001b[0mpytagcloud\u001b[0m\u001b[1;33m.\u001b[0m\u001b[0mcreate_tag_image\u001b[0m\u001b[1;33m(\u001b[0m\u001b[0mtags\u001b[0m\u001b[1;33m,\u001b[0m \u001b[0mfilename\u001b[0m\u001b[1;33m,\u001b[0m \u001b[0mfontname\u001b[0m\u001b[1;33m=\u001b[0m\u001b[0mfontname\u001b[0m\u001b[1;33m,\u001b[0m \u001b[0msize\u001b[0m\u001b[1;33m=\u001b[0m\u001b[0msize\u001b[0m\u001b[1;33m)\u001b[0m\u001b[1;33m\u001b[0m\u001b[0m\n\u001b[0m\u001b[0;32m     38\u001b[0m     \u001b[0mwebbrowser\u001b[0m\u001b[1;33m.\u001b[0m\u001b[0mopen\u001b[0m\u001b[1;33m(\u001b[0m\u001b[0mfilename\u001b[0m\u001b[1;33m)\u001b[0m\u001b[1;33m\u001b[0m\u001b[0m\n\u001b[0;32m     39\u001b[0m \u001b[1;33m\u001b[0m\u001b[0m\n",
      "\u001b[1;32mC:\\Users\\KimHyeMin\\Anaconda2\\lib\\site-packages\\pytagcloud\\__init__.pyc\u001b[0m in \u001b[0;36mcreate_tag_image\u001b[1;34m(tags, output, size, background, layout, fontname, rectangular)\u001b[0m\n\u001b[0;32m    342\u001b[0m                                       \u001b[0msize\u001b[0m\u001b[1;33m=\u001b[0m\u001b[0msize\u001b[0m\u001b[1;33m,\u001b[0m\u001b[1;33m\u001b[0m\u001b[0m\n\u001b[0;32m    343\u001b[0m                                       \u001b[0mfontname\u001b[0m\u001b[1;33m=\u001b[0m\u001b[0mfontname\u001b[0m\u001b[1;33m,\u001b[0m\u001b[1;33m\u001b[0m\u001b[0m\n\u001b[1;32m--> 344\u001b[1;33m                                       rectangular=rectangular)\n\u001b[0m\u001b[0;32m    345\u001b[0m \u001b[1;33m\u001b[0m\u001b[0m\n\u001b[0;32m    346\u001b[0m     \u001b[0mimage_surface\u001b[0m \u001b[1;33m=\u001b[0m \u001b[0mSurface\u001b[0m\u001b[1;33m(\u001b[0m\u001b[1;33m(\u001b[0m\u001b[0msizeRect\u001b[0m\u001b[1;33m.\u001b[0m\u001b[0mw\u001b[0m\u001b[1;33m,\u001b[0m \u001b[0msizeRect\u001b[0m\u001b[1;33m.\u001b[0m\u001b[0mh\u001b[0m\u001b[1;33m)\u001b[0m\u001b[1;33m,\u001b[0m \u001b[0mSRCALPHA\u001b[0m\u001b[1;33m,\u001b[0m \u001b[1;36m32\u001b[0m\u001b[1;33m)\u001b[0m\u001b[1;33m\u001b[0m\u001b[0m\n",
      "\u001b[1;32mC:\\Users\\KimHyeMin\\Anaconda2\\lib\\site-packages\\pytagcloud\\__init__.pyc\u001b[0m in \u001b[0;36m_draw_cloud\u001b[1;34m(tag_list, layout, size, fontname, rectangular)\u001b[0m\n\u001b[0;32m    273\u001b[0m     \u001b[0marea\u001b[0m \u001b[1;33m=\u001b[0m \u001b[1;36m0\u001b[0m\u001b[1;33m\u001b[0m\u001b[0m\n\u001b[0;32m    274\u001b[0m     \u001b[1;32mfor\u001b[0m \u001b[0mtag\u001b[0m \u001b[1;32min\u001b[0m \u001b[0mtag_list\u001b[0m\u001b[1;33m:\u001b[0m\u001b[1;33m\u001b[0m\u001b[0m\n\u001b[1;32m--> 275\u001b[1;33m         \u001b[0mtag_sprite\u001b[0m \u001b[1;33m=\u001b[0m \u001b[0mTag\u001b[0m\u001b[1;33m(\u001b[0m\u001b[0mtag\u001b[0m\u001b[1;33m,\u001b[0m \u001b[1;33m(\u001b[0m\u001b[1;36m0\u001b[0m\u001b[1;33m,\u001b[0m \u001b[1;36m0\u001b[0m\u001b[1;33m)\u001b[0m\u001b[1;33m,\u001b[0m \u001b[0mfontname\u001b[0m\u001b[1;33m=\u001b[0m\u001b[0mfontname\u001b[0m\u001b[1;33m)\u001b[0m\u001b[1;33m\u001b[0m\u001b[0m\n\u001b[0m\u001b[0;32m    276\u001b[0m         \u001b[0marea\u001b[0m \u001b[1;33m+=\u001b[0m \u001b[0mtag_sprite\u001b[0m\u001b[1;33m.\u001b[0m\u001b[0mmask\u001b[0m\u001b[1;33m.\u001b[0m\u001b[0mcount\u001b[0m\u001b[1;33m(\u001b[0m\u001b[1;33m)\u001b[0m\u001b[1;33m\u001b[0m\u001b[0m\n\u001b[0;32m    277\u001b[0m         \u001b[0mtag_sprites\u001b[0m\u001b[1;33m.\u001b[0m\u001b[0mappend\u001b[0m\u001b[1;33m(\u001b[0m\u001b[0mtag_sprite\u001b[0m\u001b[1;33m)\u001b[0m\u001b[1;33m\u001b[0m\u001b[0m\n",
      "\u001b[1;32mC:\\Users\\KimHyeMin\\Anaconda2\\lib\\site-packages\\pytagcloud\\__init__.pyc\u001b[0m in \u001b[0;36m__init__\u001b[1;34m(self, tag, initial_position, fontname)\u001b[0m\n\u001b[0;32m     57\u001b[0m         \u001b[0mself\u001b[0m\u001b[1;33m.\u001b[0m\u001b[0mrotation\u001b[0m \u001b[1;33m=\u001b[0m \u001b[1;36m0\u001b[0m\u001b[1;33m\u001b[0m\u001b[0m\n\u001b[0;32m     58\u001b[0m \u001b[1;33m\u001b[0m\u001b[0m\n\u001b[1;32m---> 59\u001b[1;33m         \u001b[0mself\u001b[0m\u001b[1;33m.\u001b[0m\u001b[0mfont_spec\u001b[0m \u001b[1;33m=\u001b[0m \u001b[0mload_font\u001b[0m\u001b[1;33m(\u001b[0m\u001b[0mfontname\u001b[0m\u001b[1;33m)\u001b[0m\u001b[1;33m\u001b[0m\u001b[0m\n\u001b[0m\u001b[0;32m     60\u001b[0m         self.font = font.Font(os.path.join(FONT_DIR,\n\u001b[0;32m     61\u001b[0m                                            self.font_spec['ttf']),\n",
      "\u001b[1;32mC:\\Users\\KimHyeMin\\Anaconda2\\lib\\site-packages\\pytagcloud\\__init__.pyc\u001b[0m in \u001b[0;36mload_font\u001b[1;34m(name)\u001b[0m\n\u001b[0;32m    100\u001b[0m             \u001b[1;32mreturn\u001b[0m \u001b[0mfont\u001b[0m\u001b[1;33m\u001b[0m\u001b[0m\n\u001b[0;32m    101\u001b[0m     raise AttributeError('Invalid font name. Should be one of %s' % \n\u001b[1;32m--> 102\u001b[1;33m                          \", \".join([f['name'] for f in FONT_CACHE]))\n\u001b[0m\u001b[0;32m    103\u001b[0m \u001b[1;33m\u001b[0m\u001b[0m\n\u001b[0;32m    104\u001b[0m \u001b[1;32mdef\u001b[0m \u001b[0mdefscale\u001b[0m\u001b[1;33m(\u001b[0m\u001b[0mcount\u001b[0m\u001b[1;33m,\u001b[0m \u001b[0mmincount\u001b[0m\u001b[1;33m,\u001b[0m \u001b[0mmaxcount\u001b[0m\u001b[1;33m,\u001b[0m \u001b[0mminsize\u001b[0m\u001b[1;33m,\u001b[0m \u001b[0mmaxsize\u001b[0m\u001b[1;33m)\u001b[0m\u001b[1;33m:\u001b[0m\u001b[1;33m\u001b[0m\u001b[0m\n",
      "\u001b[1;31mAttributeError\u001b[0m: Invalid font name. Should be one of Nobile, Old Standard TT, Cantarell, Reenie Beanie, Cuprum, Molengo, Neucha, Philosopher, Yanone Kaffeesatz, Cardo, Neuton, Inconsolata, Crimson Text, Josefin Sans, Droid Sans, Lobster, IM Fell DW Pica, Vollkorn, Tangerine, Coustard, PT Sans Regular"
     ]
    }
   ],
   "source": [
    "#! /usr/bin/python2.7\n",
    "# -*- coding: utf-8 -*-\n",
    "\n",
    "from collections import Counter\n",
    "import urllib\n",
    "import random\n",
    "import webbrowser\n",
    "\n",
    "from konlpy.tag import Hannanum\n",
    "from lxml import html\n",
    "import pytagcloud # requires Korean font support\n",
    "import sys\n",
    "\n",
    "if sys.version_info[0] >= 3:\n",
    "    urlopen = urllib.request.urlopen\n",
    "else:\n",
    "    urlopen = urllib.urlopen\n",
    "\n",
    "\n",
    "r = lambda: random.randint(0,255)\n",
    "color = lambda: (r(), r(), r())\n",
    "\n",
    "def get_bill_text(billnum):\n",
    "    url = 'http://pokr.kr/bill/%s/text' % billnum\n",
    "    response = urlopen(url).read().decode('utf-8')\n",
    "    page = html.fromstring(response)\n",
    "    text = page.xpath(\".//div[@id='bill-sections']/pre/text()\")[0]\n",
    "    return text\n",
    "\n",
    "def get_tags(text, ntags=50, multiplier=10):\n",
    "    h = Hannanum()\n",
    "    nouns = h.nouns(text)\n",
    "    count = Counter(nouns)\n",
    "    return [{ 'color': color(), 'tag': n, 'size': c*multiplier }\\\n",
    "                for n, c in count.most_common(ntags)]\n",
    "\n",
    "def draw_cloud(tags, filename, fontname='Noto Sans CJK', size=(800, 600)):\n",
    "    pytagcloud.create_tag_image(tags, filename, fontname=fontname, size=size)\n",
    "    webbrowser.open(filename)\n",
    "\n",
    "\n",
    "bill_num = '1904882'\n",
    "text = get_bill_text(bill_num)\n",
    "tags = get_tags(text)\n",
    "print(tags)\n",
    "draw_cloud(tags, 'wordcloud.png')"
   ]
  },
  {
   "cell_type": "code",
   "execution_count": null,
   "metadata": {
    "collapsed": true
   },
   "outputs": [],
   "source": []
  }
 ],
 "metadata": {
  "anaconda-cloud": {},
  "kernelspec": {
   "display_name": "Python [Root]",
   "language": "python",
   "name": "Python [Root]"
  },
  "language_info": {
   "codemirror_mode": {
    "name": "ipython",
    "version": 2
   },
   "file_extension": ".py",
   "mimetype": "text/x-python",
   "name": "python",
   "nbconvert_exporter": "python",
   "pygments_lexer": "ipython2",
   "version": "2.7.11"
  }
 },
 "nbformat": 4,
 "nbformat_minor": 0
}
